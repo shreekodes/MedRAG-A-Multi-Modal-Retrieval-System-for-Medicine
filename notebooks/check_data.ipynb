import matplotlib.pyplot as plt
import random
import json
from PIL import Image
import pandas as pd

with open("/content/drive/MyDrive/mri_ds/processed/metadata_images.json", "r") as f:
    metadata = json.load(f)


df = pd.DataFrame(metadata)

# Show class distribution
print(df['label'].value_counts())

# Pick a random sample
sample = random.choice(df.to_dict(orient="records"))

# Load and plot image
img = Image.open(sample["filepath"])
plt.imshow(img)
plt.title(f"Label: {sample['label']}")
plt.axis("off")
plt.show()
