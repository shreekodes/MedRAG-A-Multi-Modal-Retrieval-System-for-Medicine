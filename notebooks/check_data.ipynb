import pandas as pd
import matplotlib.pyplot as plt
from PIL import Image
import random

df = pd.read_csv("/content/drive/MyDrive/mri_ds/processed/metadata.csv")
print(df['label'].value_counts())

sample = random.choice(df['filepath'].tolist())
img = Image.open(sample)
plt.imshow(img)
plt.title("Sample preprocessed image")
plt.axis("off")
plt.show()
